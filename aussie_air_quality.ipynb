{
 "cells": [
  {
   "cell_type": "code",
   "execution_count": 1,
   "metadata": {},
   "outputs": [],
   "source": [
    "import requests\n",
    "import matplotlib.pyplot as pp\n",
    "import numpy as np\n",
    "from matplotlib import cm"
   ]
  },
  {
   "cell_type": "code",
   "execution_count": 2,
   "metadata": {},
   "outputs": [],
   "source": [
    "api_key = ''\n",
    "base_url = 'http://api.waqi.info'\n",
    "endpoint = '/map/bounds/'\n",
    "lat1 = -39.368279\n",
    "lon1 = 112.719727\n",
    "lat2 = -10.574222\n",
    "lon2 = 154.335938\n",
    "r = requests.get(\"{}{}?latlng={},{},{},{}&token={}\".format(base_url, endpoint, lat1, lon1, lat2, lon2, api_key))"
   ]
  },
  {
   "cell_type": "code",
   "execution_count": 3,
   "metadata": {},
   "outputs": [],
   "source": [
    "data = r.json()['data']"
   ]
  },
  {
   "cell_type": "code",
   "execution_count": 4,
   "metadata": {},
   "outputs": [
    {
     "data": {
      "text/plain": [
       "{'lat': -20.7255087,\n",
       " 'lon': 139.5001094,\n",
       " 'uid': 5132,\n",
       " 'aqi': '20',\n",
       " 'station': {'name': 'The Gap, Australia',\n",
       "  'time': '2020-01-03T20:00:00+10:00'}}"
      ]
     },
     "execution_count": 4,
     "metadata": {},
     "output_type": "execute_result"
    }
   ],
   "source": [
    "data[0]"
   ]
  },
  {
   "cell_type": "code",
   "execution_count": 5,
   "metadata": {},
   "outputs": [],
   "source": [
    "lats = [d['lat'] for d in data]\n",
    "lons = [d['lon'] for d in data]\n",
    "aqis = [d['aqi'] for d in data]"
   ]
  },
  {
   "cell_type": "code",
   "execution_count": 6,
   "metadata": {},
   "outputs": [],
   "source": [
    "aqis = [51 if item == '-' else item for item in aqis]"
   ]
  },
  {
   "cell_type": "code",
   "execution_count": 7,
   "metadata": {},
   "outputs": [],
   "source": [
    "lats = np.array(lats, dtype=np.float64)\n",
    "lons = np.array(lons, dtype=np.float64)\n",
    "aqis = np.array(aqis, dtype=np.float64)"
   ]
  },
  {
   "cell_type": "code",
   "execution_count": 11,
   "metadata": {},
   "outputs": [
    {
     "data": {
      "text/plain": [
       "(-0.5, 599.5, 599.5, -0.5)"
      ]
     },
     "execution_count": 11,
     "metadata": {},
     "output_type": "execute_result"
    },
    {
     "data": {
      "image/png": "[encoded data removed]",
      "text/plain": [
       "<Figure size 864x864 with 1 Axes>"
      ]
     },
     "metadata": {
      "needs_background": "light"
     },
     "output_type": "display_data"
    }
   ],
   "source": [
    "nrbins = 600\n",
    "hist = np.zeros((nrbins,nrbins))\n",
    "\n",
    "# Compute the histogram with the longitude and latitude data as a source\n",
    "hist, x_ranges, y_ranges  = np.histogram2d(x=lats, y=lons, bins=nrbins)\n",
    "\n",
    "\n",
    "# Plot the counts\n",
    "pp.figure(figsize=(12,12))\n",
    "ax = pp.subplot(1,1,1)\n",
    "pp.imshow(img, 'hot')\n",
    "pp.axis('off')"
   ]
  },
  {
   "cell_type": "code",
   "execution_count": null,
   "metadata": {},
   "outputs": [],
   "source": []
  }
 ],
 "metadata": {
  "kernelspec": {
   "display_name": "Python 3",
   "language": "python",
   "name": "python3"
  },
  "language_info": {
   "codemirror_mode": {
    "name": "ipython",
    "version": 3
   },
   "file_extension": ".py",
   "mimetype": "text/x-python",
   "name": "python",
   "nbconvert_exporter": "python",
   "pygments_lexer": "ipython3",
   "version": "3.7.2"
  }
 },
 "nbformat": 4,
 "nbformat_minor": 2
}
